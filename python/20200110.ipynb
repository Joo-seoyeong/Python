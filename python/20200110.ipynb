{
 "cells": [
  {
   "cell_type": "code",
   "execution_count": 2,
   "metadata": {},
   "outputs": [],
   "source": [
    "import numpy as np"
   ]
  },
  {
   "cell_type": "markdown",
   "metadata": {},
   "source": [
    "#### 속도 비교"
   ]
  },
  {
   "cell_type": "code",
   "execution_count": 4,
   "metadata": {},
   "outputs": [
    {
     "name": "stdout",
     "output_type": "stream",
     "text": [
      "Number: 100\n"
     ]
    },
    {
     "ename": "NameError",
     "evalue": "name 'time' is not defined",
     "output_type": "error",
     "traceback": [
      "\u001b[1;31m---------------------------------------------------------------------------\u001b[0m",
      "\u001b[1;31mNameError\u001b[0m                                 Traceback (most recent call last)",
      "\u001b[1;32m<ipython-input-4-44f8071ce17b>\u001b[0m in \u001b[0;36m<module>\u001b[1;34m\u001b[0m\n\u001b[0;32m     31\u001b[0m \u001b[0mn\u001b[0m\u001b[1;33m=\u001b[0m\u001b[1;36m100\u001b[0m\u001b[1;33m\u001b[0m\u001b[1;33m\u001b[0m\u001b[0m\n\u001b[0;32m     32\u001b[0m \u001b[0mprint\u001b[0m\u001b[1;33m(\u001b[0m\u001b[1;34m\"Number:\"\u001b[0m\u001b[1;33m,\u001b[0m\u001b[0mn\u001b[0m\u001b[1;33m)\u001b[0m\u001b[1;33m\u001b[0m\u001b[1;33m\u001b[0m\u001b[0m\n\u001b[1;32m---> 33\u001b[1;33m \u001b[0mt1\u001b[0m\u001b[1;33m=\u001b[0m\u001b[0mtime\u001b[0m\u001b[1;33m.\u001b[0m\u001b[0mtime\u001b[0m\u001b[1;33m(\u001b[0m\u001b[1;33m)\u001b[0m\u001b[1;33m\u001b[0m\u001b[1;33m\u001b[0m\u001b[0m\n\u001b[0m\u001b[0;32m     34\u001b[0m \u001b[0msquare_list0\u001b[0m\u001b[1;33m(\u001b[0m\u001b[0mn\u001b[0m\u001b[1;33m)\u001b[0m\u001b[1;33m\u001b[0m\u001b[1;33m\u001b[0m\u001b[0m\n\u001b[0;32m     35\u001b[0m \u001b[0mt2\u001b[0m\u001b[1;33m=\u001b[0m\u001b[0mtime\u001b[0m\u001b[1;33m.\u001b[0m\u001b[0mtime\u001b[0m\u001b[1;33m(\u001b[0m\u001b[1;33m)\u001b[0m\u001b[1;33m\u001b[0m\u001b[1;33m\u001b[0m\u001b[0m\n",
      "\u001b[1;31mNameError\u001b[0m: name 'time' is not defined"
     ]
    }
   ],
   "source": [
    "def square_list0(N):\n",
    "    squares=[]\n",
    "    for n in range(N):\n",
    "        squares=squares+[n**2]\n",
    "    return squares\n",
    "\n",
    "def square_list1(N):\n",
    "    squares=[]\n",
    "    for n in range(N):\n",
    "        # 일반적으로 생성해서 더하는 방법\n",
    "        squares += [n**2]\n",
    "    return squares\n",
    "        \n",
    "def square_list2(N):\n",
    "    squares=[]\n",
    "    for n in range(N):\n",
    "        # append라고 이미 정의된 메소드 이용하는 방법\n",
    "        squares.append(n**2)\n",
    "    return squares\n",
    "\n",
    "def square_list3(N):\n",
    "    # 동일한 방법이나 벡터연산으로 처리\n",
    "    return [n**2 for n in range(N)]\n",
    "\n",
    "def square_array(N):\n",
    "    # Vectorize the entire operation\n",
    "    #from numpy import arange # numpy에 있는 패키지 중 arange만 가져와서 사용\n",
    "    #return arange(N)**2\n",
    "    return np.arange(N)**2\n",
    "\n",
    "n=100\n",
    "print(\"Number:\",n)\n",
    "t1=time.time()\n",
    "square_list0(n)\n",
    "t2=time.time()\n",
    "print(\"List0-Try:\",t2-t1)\n",
    "\n",
    "t1=time.time()\n",
    "square_list1(n)\n",
    "t2=time.time()\n",
    "print(\"List1-Try:\", t2-t1)\n",
    "\n",
    "t1=time.time()\n",
    "square_list2(n)\n",
    "t2=time.time()\n",
    "print(\"List2-Try:\",t2-t1)\n",
    "\n",
    "t1=time.time()\n",
    "square_list3(n)\n",
    "t2=time.time()\n",
    "print(\"List3-Try\",t2-t1)"
   ]
  },
  {
   "cell_type": "markdown",
   "metadata": {},
   "source": [
    "### 색인"
   ]
  },
  {
   "cell_type": "markdown",
   "metadata": {},
   "source": [
    "#### 기본적인 색인 : 파이썬의 리스트와 동일"
   ]
  },
  {
   "cell_type": "code",
   "execution_count": 5,
   "metadata": {},
   "outputs": [
    {
     "name": "stdout",
     "output_type": "stream",
     "text": [
      "[1, 2, 3, 4, 5, 6]\n",
      "[1 2 3 4 5 6]\n"
     ]
    }
   ],
   "source": [
    "# 색인\n",
    "list1=[1,2,3,4,5,6]\n",
    "arr1=np.array(list1)\n",
    "print(list1)\n",
    "print(arr1)"
   ]
  },
  {
   "cell_type": "code",
   "execution_count": 8,
   "metadata": {},
   "outputs": [
    {
     "name": "stdout",
     "output_type": "stream",
     "text": [
      "1\n",
      "1\n",
      "\n",
      "\n",
      "[2, 3]\n",
      "[2 3]\n",
      "\n",
      "\n",
      "[4, 5, 6]\n",
      "[4 5 6]\n",
      "\n",
      "\n",
      "[1, 2, 3, 4, 5, 6]\n",
      "[1 2 3 4 5 6]\n"
     ]
    }
   ],
   "source": [
    "# 정수 인덱스로 리스트와 1차원 numpy 배열 접근 --> 참고) 원본은 변경되지 않음\n",
    "print(list1[0])\n",
    "print(arr1[0])\n",
    "print(\"\\n\")\n",
    "print(list1[1:3])\n",
    "print(arr1[1:3])\n",
    "print(\"\\n\")\n",
    "print(list1[3:])\n",
    "print(arr1[3:])\n",
    "print(\"\\n\")\n",
    "print(list1[:])\n",
    "print(arr1[:])"
   ]
  },
  {
   "cell_type": "markdown",
   "metadata": {},
   "source": [
    "#### 연습문제"
   ]
  },
  {
   "cell_type": "code",
   "execution_count": 9,
   "metadata": {},
   "outputs": [
    {
     "data": {
      "text/plain": [
       "array([0, 1, 2, 3, 4, 5])"
      ]
     },
     "execution_count": 9,
     "metadata": {},
     "output_type": "execute_result"
    }
   ],
   "source": [
    "np.arange(0,6,1)"
   ]
  },
  {
   "cell_type": "code",
   "execution_count": 10,
   "metadata": {},
   "outputs": [
    {
     "data": {
      "text/plain": [
       "array([ 0, 10, 20, 30, 40, 50])"
      ]
     },
     "execution_count": 10,
     "metadata": {},
     "output_type": "execute_result"
    }
   ],
   "source": [
    "np.arange(0,51,10)"
   ]
  },
  {
   "cell_type": "code",
   "execution_count": 11,
   "metadata": {},
   "outputs": [
    {
     "data": {
      "text/plain": [
       "array([[ 0],\n",
       "       [10],\n",
       "       [20],\n",
       "       [30],\n",
       "       [40],\n",
       "       [50]])"
      ]
     },
     "execution_count": 11,
     "metadata": {},
     "output_type": "execute_result"
    }
   ],
   "source": [
    "np.arange(0,51,10)[:,np.newaxis]"
   ]
  },
  {
   "cell_type": "code",
   "execution_count": 14,
   "metadata": {},
   "outputs": [
    {
     "data": {
      "text/plain": [
       "array([[ 0,  1,  2,  3,  4,  5],\n",
       "       [10, 11, 12, 13, 14, 15],\n",
       "       [20, 21, 22, 23, 24, 25],\n",
       "       [30, 31, 32, 33, 34, 35],\n",
       "       [40, 41, 42, 43, 44, 45],\n",
       "       [50, 51, 52, 53, 54, 55]])"
      ]
     },
     "execution_count": 14,
     "metadata": {},
     "output_type": "execute_result"
    }
   ],
   "source": [
    "a=np.arange(0,51,10)[:,np.newaxis]+[0,1,2,3,4,5] # np.arange(0:6:1)\n",
    "a"
   ]
  },
  {
   "cell_type": "code",
   "execution_count": 15,
   "metadata": {},
   "outputs": [
    {
     "data": {
      "text/plain": [
       "1"
      ]
     },
     "execution_count": 15,
     "metadata": {},
     "output_type": "execute_result"
    }
   ],
   "source": [
    "a[0][1]"
   ]
  },
  {
   "cell_type": "code",
   "execution_count": 16,
   "metadata": {},
   "outputs": [
    {
     "data": {
      "text/plain": [
       "2"
      ]
     },
     "execution_count": 16,
     "metadata": {},
     "output_type": "execute_result"
    }
   ],
   "source": [
    "a[0,2]"
   ]
  },
  {
   "cell_type": "code",
   "execution_count": 17,
   "metadata": {},
   "outputs": [
    {
     "data": {
      "text/plain": [
       "array([ 1, 11])"
      ]
     },
     "execution_count": 17,
     "metadata": {},
     "output_type": "execute_result"
    }
   ],
   "source": [
    "a[0:2,1]"
   ]
  },
  {
   "cell_type": "code",
   "execution_count": 18,
   "metadata": {},
   "outputs": [
    {
     "data": {
      "text/plain": [
       "array([ 2, 12, 22, 32, 42, 52])"
      ]
     },
     "execution_count": 18,
     "metadata": {},
     "output_type": "execute_result"
    }
   ],
   "source": [
    "a[0:6,2]"
   ]
  },
  {
   "cell_type": "code",
   "execution_count": 19,
   "metadata": {},
   "outputs": [
    {
     "data": {
      "text/plain": [
       "array([3, 4])"
      ]
     },
     "execution_count": 19,
     "metadata": {},
     "output_type": "execute_result"
    }
   ],
   "source": [
    "a[0,3:5]"
   ]
  },
  {
   "cell_type": "code",
   "execution_count": 27,
   "metadata": {},
   "outputs": [
    {
     "data": {
      "text/plain": [
       "array([[20, 22, 24],\n",
       "       [40, 42, 44]])"
      ]
     },
     "execution_count": 27,
     "metadata": {},
     "output_type": "execute_result"
    }
   ],
   "source": [
    "a[2:5:2,0:5:2]"
   ]
  },
  {
   "cell_type": "code",
   "execution_count": 28,
   "metadata": {},
   "outputs": [
    {
     "data": {
      "text/plain": [
       "array([[44, 45],\n",
       "       [54, 55]])"
      ]
     },
     "execution_count": 28,
     "metadata": {},
     "output_type": "execute_result"
    }
   ],
   "source": [
    "a[4:6,4:6]"
   ]
  },
  {
   "cell_type": "code",
   "execution_count": 29,
   "metadata": {},
   "outputs": [
    {
     "name": "stdout",
     "output_type": "stream",
     "text": [
      "[0 1 2 3 4 5 6 7 8 9]\n",
      "[ True  True  True  True  True False False False False False]\n",
      "[0 1 2 3 4]\n"
     ]
    }
   ],
   "source": [
    "# Boolean indexing\n",
    "arr1=np.arange(10)\n",
    "print(arr1)\n",
    "print(arr1<5)\n",
    "print(arr1[arr1<5])"
   ]
  },
  {
   "cell_type": "markdown",
   "metadata": {},
   "source": [
    "#### 자료 만들기"
   ]
  },
  {
   "cell_type": "code",
   "execution_count": 48,
   "metadata": {},
   "outputs": [
    {
     "name": "stdout",
     "output_type": "stream",
     "text": [
      "['Bob' 'Joe' 'Will' 'Bob' 'Will' 'Joe' 'Joe']\n",
      "[[60 70 94 45]\n",
      " [37 57 85 30]\n",
      " [55 78 52 74]\n",
      " [87 83 99 94]\n",
      " [71 34 79 64]\n",
      " [96 92 53 41]\n",
      " [99 79 31 73]]\n"
     ]
    }
   ],
   "source": [
    "# names - 학생이름, data - 국어/영어/수학/과학 성적이라고 생각하면 됨\n",
    "names=np.array([\"Bob\",\"Joe\",\"Will\",\"Bob\",\"Will\",\"Joe\",\"Joe\"])\n",
    "# 참고) numpy.random.randint(low,high=None,size=None,dtype='l')\n",
    "data=np.random.randint(low=30,high=100,size=(7,4))\n",
    "print(names)\n",
    "print(data)"
   ]
  },
  {
   "cell_type": "markdown",
   "metadata": {},
   "source": [
    "#### 이름이 Bob인 사람들만 찾기"
   ]
  },
  {
   "cell_type": "code",
   "execution_count": 31,
   "metadata": {},
   "outputs": [
    {
     "data": {
      "text/plain": [
       "array([ True, False, False,  True, False, False, False])"
      ]
     },
     "execution_count": 31,
     "metadata": {},
     "output_type": "execute_result"
    }
   ],
   "source": [
    "names==\"Bob\""
   ]
  },
  {
   "cell_type": "code",
   "execution_count": 33,
   "metadata": {},
   "outputs": [
    {
     "name": "stdout",
     "output_type": "stream",
     "text": [
      "['Bob' 'Bob']\n",
      "2\n"
     ]
    }
   ],
   "source": [
    "print(names[names==\"Bob\"])\n",
    "print(len(names[names==\"Bob\"]))"
   ]
  },
  {
   "cell_type": "markdown",
   "metadata": {},
   "source": [
    "#### 이름이 Bob인 사람들의 성적 조회"
   ]
  },
  {
   "cell_type": "code",
   "execution_count": 34,
   "metadata": {},
   "outputs": [
    {
     "data": {
      "text/plain": [
       "array([[81, 42, 52, 64],\n",
       "       [76, 64, 98, 37]])"
      ]
     },
     "execution_count": 34,
     "metadata": {},
     "output_type": "execute_result"
    }
   ],
   "source": [
    "data[names==\"Bob\"]"
   ]
  },
  {
   "cell_type": "markdown",
   "metadata": {},
   "source": [
    "#### Bob이 2명이 있는데 이 중에서 전과목이 아니라 수학/과학의 성적만 보고싶을 때"
   ]
  },
  {
   "cell_type": "code",
   "execution_count": 35,
   "metadata": {},
   "outputs": [
    {
     "data": {
      "text/plain": [
       "array([[52, 64],\n",
       "       [98, 37]])"
      ]
     },
     "execution_count": 35,
     "metadata": {},
     "output_type": "execute_result"
    }
   ],
   "source": [
    "data[names==\"Bob\",2:]"
   ]
  },
  {
   "cell_type": "markdown",
   "metadata": {},
   "source": [
    "#### Bob이 2명 있는데 처음 나온 Bob의 성적만 보고싶을 때"
   ]
  },
  {
   "cell_type": "code",
   "execution_count": 36,
   "metadata": {},
   "outputs": [
    {
     "data": {
      "text/plain": [
       "array([81, 42, 52, 64])"
      ]
     },
     "execution_count": 36,
     "metadata": {},
     "output_type": "execute_result"
    }
   ],
   "source": [
    "data[names==\"Bob\"][0]"
   ]
  },
  {
   "cell_type": "markdown",
   "metadata": {},
   "source": [
    "#### 이름이 Bob,Will인 사람들의 성적"
   ]
  },
  {
   "cell_type": "code",
   "execution_count": 43,
   "metadata": {},
   "outputs": [
    {
     "data": {
      "text/plain": [
       "array([[81, 42, 52, 64],\n",
       "       [87, 75, 41, 30],\n",
       "       [76, 64, 98, 37],\n",
       "       [79, 31, 96, 74]])"
      ]
     },
     "execution_count": 43,
     "metadata": {},
     "output_type": "execute_result"
    }
   ],
   "source": [
    "data[(names==\"Bob\") | (names==\"Will\")]"
   ]
  },
  {
   "cell_type": "markdown",
   "metadata": {},
   "source": []
  },
  {
   "cell_type": "code",
   "execution_count": 49,
   "metadata": {},
   "outputs": [
    {
     "name": "stdout",
     "output_type": "stream",
     "text": [
      "[[60 70 94 45]\n",
      " [37 57 85 30]\n",
      " [55 78 52 74]\n",
      " [87 83 99 94]\n",
      " [71 34 79 64]\n",
      " [96 92 53 41]\n",
      " [99 79 31 73]]\n",
      "[[0 0 1 0]\n",
      " [0 0 1 0]\n",
      " [0 1 0 1]\n",
      " [1 1 1 1]\n",
      " [1 0 1 0]\n",
      " [1 1 0 0]\n",
      " [1 1 0 1]]\n"
     ]
    }
   ],
   "source": [
    "# step1)\n",
    "print(data)\n",
    "data[data<=70]=0\n",
    "data[data>70]=1\n",
    "print(data)"
   ]
  },
  {
   "cell_type": "code",
   "execution_count": 50,
   "metadata": {},
   "outputs": [
    {
     "data": {
      "text/plain": [
       "(array([0, 1, 2, 2, 3, 3, 3, 3, 4, 4, 5, 5, 6, 6, 6], dtype=int64),\n",
       " array([2, 2, 1, 3, 0, 1, 2, 3, 0, 2, 0, 1, 0, 1, 3], dtype=int64))"
      ]
     },
     "execution_count": 50,
     "metadata": {},
     "output_type": "execute_result"
    }
   ],
   "source": [
    "# step2)\n",
    "# 참고) 원하는 값을 찾을 때는 np.where을 사용\n",
    "# 1로 패스한 사람들의 데이터만 찾음 -> 결과가 어떠한 것을 의미하는지 잘 확인할 것\n",
    "np.where(data>0)"
   ]
  },
  {
   "cell_type": "code",
   "execution_count": 51,
   "metadata": {},
   "outputs": [
    {
     "name": "stdout",
     "output_type": "stream",
     "text": [
      "[0 1 2 3 4 5 6]\n",
      "['Bob' 'Joe' 'Will' 'Bob' 'Will' 'Joe' 'Joe']\n"
     ]
    }
   ],
   "source": [
    "# step3/4)\n",
    "# 이를 바탕으로 이름에 대한 유니크한 index를 찾아서 누가 패스했는지 찾아보자\n",
    "print(np.unique(np.where(data>0)[0]))\n",
    "print(names[np.unique(np.where(data>0)[0])])"
   ]
  },
  {
   "cell_type": "code",
   "execution_count": null,
   "metadata": {},
   "outputs": [],
   "source": []
  },
  {
   "cell_type": "code",
   "execution_count": null,
   "metadata": {},
   "outputs": [],
   "source": []
  },
  {
   "cell_type": "code",
   "execution_count": null,
   "metadata": {},
   "outputs": [],
   "source": []
  }
 ],
 "metadata": {
  "kernelspec": {
   "display_name": "Python 3",
   "language": "python",
   "name": "python3"
  },
  "language_info": {
   "codemirror_mode": {
    "name": "ipython",
    "version": 3
   },
   "file_extension": ".py",
   "mimetype": "text/x-python",
   "name": "python",
   "nbconvert_exporter": "python",
   "pygments_lexer": "ipython3",
   "version": "3.7.4"
  }
 },
 "nbformat": 4,
 "nbformat_minor": 2
}
