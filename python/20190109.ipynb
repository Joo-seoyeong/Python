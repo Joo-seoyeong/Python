{
 "cells": [
  {
   "cell_type": "markdown",
   "metadata": {},
   "source": [
    "#### a에서 c만 제거해서 b 만들기"
   ]
  },
  {
   "cell_type": "code",
   "execution_count": 2,
   "metadata": {},
   "outputs": [],
   "source": [
    "a=[\"a\",\"b\",\"c\",\"d\",\"f\",\"g\",\"c\",\"i\"]"
   ]
  },
  {
   "cell_type": "code",
   "execution_count": 6,
   "metadata": {},
   "outputs": [],
   "source": [
    "for i in a:\n",
    "    if i == \"c\":\n",
    "        a.remove(i)"
   ]
  },
  {
   "cell_type": "code",
   "execution_count": 8,
   "metadata": {},
   "outputs": [
    {
     "data": {
      "text/plain": [
       "['a', 'b', 'd', 'f', 'g', 'i']"
      ]
     },
     "execution_count": 8,
     "metadata": {},
     "output_type": "execute_result"
    }
   ],
   "source": [
    "a"
   ]
  },
  {
   "cell_type": "code",
   "execution_count": 69,
   "metadata": {},
   "outputs": [
    {
     "name": "stdout",
     "output_type": "stream",
     "text": [
      "['a', 'b', 'd', 'f', 'g', 'i']\n"
     ]
    }
   ],
   "source": [
    "a=[\"a\",\"b\",\"c\",\"d\",\"f\",\"g\",\"c\",\"i\"]\n",
    "len(a)\n",
    "b=[]\n",
    "for i in range(0,len(a)):\n",
    "    if a[i] != \"c\":\n",
    "        b.append(a[i])\n",
    "print(b)"
   ]
  },
  {
   "cell_type": "code",
   "execution_count": 68,
   "metadata": {},
   "outputs": [
    {
     "name": "stdout",
     "output_type": "stream",
     "text": [
      "['a', 'b', 'd', 'f', 'g', 'i']\n"
     ]
    }
   ],
   "source": [
    "b=[]\n",
    "for i in a:\n",
    "    if i != \"c\":\n",
    "        b.append(i)\n",
    "print(b)"
   ]
  },
  {
   "cell_type": "code",
   "execution_count": 70,
   "metadata": {},
   "outputs": [
    {
     "data": {
      "text/plain": [
       "[['a', 'b', 'c', 'd'], 'f', 'g', ['c', 'i']]"
      ]
     },
     "execution_count": 70,
     "metadata": {},
     "output_type": "execute_result"
    }
   ],
   "source": [
    "a=[[\"a\",\"b\",\"c\",\"d\"],\"f\",\"g\",[\"c\",\"i\"]]\n",
    "a"
   ]
  },
  {
   "cell_type": "code",
   "execution_count": 75,
   "metadata": {},
   "outputs": [
    {
     "data": {
      "text/plain": [
       "['a', 'b', 'c', 'd']"
      ]
     },
     "execution_count": 75,
     "metadata": {},
     "output_type": "execute_result"
    }
   ],
   "source": [
    "a[0]"
   ]
  },
  {
   "cell_type": "code",
   "execution_count": 72,
   "metadata": {},
   "outputs": [
    {
     "data": {
      "text/plain": [
       "'a'"
      ]
     },
     "execution_count": 72,
     "metadata": {},
     "output_type": "execute_result"
    }
   ],
   "source": [
    "a[0][0]"
   ]
  },
  {
   "cell_type": "code",
   "execution_count": 73,
   "metadata": {},
   "outputs": [
    {
     "data": {
      "text/plain": [
       "4"
      ]
     },
     "execution_count": 73,
     "metadata": {},
     "output_type": "execute_result"
    }
   ],
   "source": [
    "len(a)"
   ]
  },
  {
   "cell_type": "code",
   "execution_count": 83,
   "metadata": {},
   "outputs": [
    {
     "name": "stdout",
     "output_type": "stream",
     "text": [
      "['a', 'b', 'd', 'f', 'g', 'i']\n"
     ]
    }
   ],
   "source": [
    "a=[[\"a\",\"b\",\"c\",\"d\"],\"f\",\"g\",[\"c\",\"i\"]]\n",
    "b=[]\n",
    "for i in range(0,len(a)):\n",
    "    for j in a[i]:\n",
    "        if j != \"c\":\n",
    "            b.append(j)\n",
    "print(b)    "
   ]
  },
  {
   "cell_type": "code",
   "execution_count": 103,
   "metadata": {},
   "outputs": [
    {
     "name": "stdout",
     "output_type": "stream",
     "text": [
      "['a', 'b', 'd', 'f', 'g', 'i']\n"
     ]
    }
   ],
   "source": [
    "b=[]\n",
    "for i in range(0,len(a)):\n",
    "    for j in range(0,len(a[i]),1):\n",
    "        if a[i][j] != \"c\":\n",
    "            b.append(a[i][j])\n",
    "        else:\n",
    "            pass\n",
    "print(b)"
   ]
  },
  {
   "cell_type": "code",
   "execution_count": 104,
   "metadata": {},
   "outputs": [
    {
     "name": "stdout",
     "output_type": "stream",
     "text": [
      "['a', 'b', 'd', 'f', 'g', 'i']\n"
     ]
    }
   ],
   "source": [
    "b=[]\n",
    "for i in a:\n",
    "    for j in i:\n",
    "        if j != \"c\":\n",
    "            b.append(j)\n",
    "        else:\n",
    "            pass\n",
    "print(b)"
   ]
  },
  {
   "cell_type": "markdown",
   "metadata": {},
   "source": [
    "#### 함수"
   ]
  },
  {
   "cell_type": "code",
   "execution_count": 117,
   "metadata": {},
   "outputs": [
    {
     "name": "stdout",
     "output_type": "stream",
     "text": [
      "21\n",
      "60\n"
     ]
    }
   ],
   "source": [
    "def sumrandom(*args):\n",
    "    result = 0\n",
    "    for i in args:\n",
    "        result = result+i\n",
    "    return result\n",
    "\n",
    "print(sumrandom(1,2,3,4,5,6))\n",
    "print(sumrandom(10,20,30))"
   ]
  },
  {
   "cell_type": "code",
   "execution_count": 157,
   "metadata": {},
   "outputs": [
    {
     "name": "stdout",
     "output_type": "stream",
     "text": [
      "150\n",
      "5\n",
      "No func!\n"
     ]
    }
   ],
   "source": [
    "def myfunction(func,*args):\n",
    "    if func == \"sum\":\n",
    "        result = 0\n",
    "        for i in args:\n",
    "            result = result + i\n",
    "        return result\n",
    "    elif func == \"count\":\n",
    "        return len(args)\n",
    "    else:\n",
    "        return \"No func!\"\n",
    "a=myfunction(\"sum\",10,20,30,40,50)\n",
    "b=myfunction(\"count\",10,20,30,40,50)\n",
    "c=myfunction(\"nono\",10,20,30,40,50)\n",
    "\n",
    "print(a)\n",
    "print(b)\n",
    "print(c)"
   ]
  },
  {
   "cell_type": "markdown",
   "metadata": {},
   "source": [
    "#### 람다 함수"
   ]
  },
  {
   "cell_type": "code",
   "execution_count": 158,
   "metadata": {},
   "outputs": [
    {
     "data": {
      "text/plain": [
       "40"
      ]
     },
     "execution_count": 158,
     "metadata": {},
     "output_type": "execute_result"
    }
   ],
   "source": [
    "(lambda x,y : x+y)(10,30)"
   ]
  },
  {
   "cell_type": "markdown",
   "metadata": {},
   "source": [
    "### 과제"
   ]
  },
  {
   "cell_type": "code",
   "execution_count": 187,
   "metadata": {},
   "outputs": [
    {
     "name": "stdout",
     "output_type": "stream",
     "text": [
      "(6, 6)\n",
      "(1, 3)\n",
      "Check sel parameter!\n"
     ]
    }
   ],
   "source": [
    "def myfunc(func,*args):\n",
    "    if func == \"sel1\":\n",
    "        result1=0\n",
    "        result2=1\n",
    "        for i in args:\n",
    "            result1 = result1 + i\n",
    "            result2 = result2 * i\n",
    "        return (result1,result2)\n",
    "    elif func == \"sel2\":\n",
    "        return(args[0],args[len(args)-1])\n",
    "    else:\n",
    "        return \"Check sel parameter!\"\n",
    "print(myfunc(\"sel1\",1,2,3))\n",
    "print(myfunc(\"sel2\",1,2,3))\n",
    "print(myfunc(\"sel\",1,2,3))"
   ]
  },
  {
   "cell_type": "code",
   "execution_count": null,
   "metadata": {},
   "outputs": [],
   "source": []
  },
  {
   "cell_type": "code",
   "execution_count": null,
   "metadata": {},
   "outputs": [],
   "source": []
  }
 ],
 "metadata": {
  "kernelspec": {
   "display_name": "Python 3",
   "language": "python",
   "name": "python3"
  },
  "language_info": {
   "codemirror_mode": {
    "name": "ipython",
    "version": 3
   },
   "file_extension": ".py",
   "mimetype": "text/x-python",
   "name": "python",
   "nbconvert_exporter": "python",
   "pygments_lexer": "ipython3",
   "version": "3.7.4"
  }
 },
 "nbformat": 4,
 "nbformat_minor": 2
}
