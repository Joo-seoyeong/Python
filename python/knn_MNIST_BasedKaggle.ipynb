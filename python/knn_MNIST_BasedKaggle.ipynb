{
 "cells": [
  {
   "cell_type": "code",
   "execution_count": 3,
   "metadata": {},
   "outputs": [],
   "source": [
    "import numpy as np\n",
    "import pandas as pd\n",
    "\n",
    "%matplotlib inline\n",
    "import matplotlib.pyplot as plt\n",
    "import time"
   ]
  },
  {
   "cell_type": "code",
   "execution_count": 4,
   "metadata": {},
   "outputs": [
    {
     "name": "stdout",
     "output_type": "stream",
     "text": [
      "Process Time: 32.23891544342041\n",
      "[[1 0 0 ... 0 0 0]\n",
      " [0 0 0 ... 0 0 0]\n",
      " [1 0 0 ... 0 0 0]\n",
      " ...\n",
      " [7 0 0 ... 0 0 0]\n",
      " [6 0 0 ... 0 0 0]\n",
      " [9 0 0 ... 0 0 0]]\n"
     ]
    }
   ],
   "source": [
    "t1=time.time()\n",
    "mnist_train_data_path='C:\\\\Users\\\\1-10\\\\Desktop\\\\python\\\\01_MNIST_Kaggle_data\\\\train.csv'\n",
    "\n",
    "train=np.genfromtxt(mnist_train_data_path, delimiter=',', skip_header=1).astype(np.dtype('uint8'))\n",
    "# np.genfromtxt - 파일로부터 배열 생성 / delimiter - 구분자 / skip_header=1 (정수까지 해당되는 라인까지 제거시켜 데이터를 입력받음)\n",
    "t2=time.time()\n",
    "\n",
    "print(\"Process Time: \" + str(t2-t1))\n",
    "print(train)"
   ]
  },
  {
   "cell_type": "code",
   "execution_count": 5,
   "metadata": {},
   "outputs": [
    {
     "name": "stdout",
     "output_type": "stream",
     "text": [
      "Process Time 13.657269716262817\n",
      "[[0 0 0 ... 0 0 0]\n",
      " [0 0 0 ... 0 0 0]\n",
      " [0 0 0 ... 0 0 0]\n",
      " ...\n",
      " [0 0 0 ... 0 0 0]\n",
      " [0 0 0 ... 0 0 0]\n",
      " [0 0 0 ... 0 0 0]]\n"
     ]
    }
   ],
   "source": [
    "t1=time.time()\n",
    "mnist_test_data_path='C:\\\\Users\\\\1-10\\\\Desktop\\\\python\\\\01_MNIST_Kaggle_data\\\\test.csv'\n",
    "\n",
    "test=np.genfromtxt(mnist_test_data_path, delimiter=',', skip_header=1).astype(np.dtype('uint8'))\n",
    "t2=time.time()\n",
    "\n",
    "print(\"Process Time \" + str(t2-t1))\n",
    "print(test)"
   ]
  },
  {
   "cell_type": "code",
   "execution_count": 6,
   "metadata": {},
   "outputs": [
    {
     "name": "stdout",
     "output_type": "stream",
     "text": [
      "(42000, 785)\n",
      "(28000, 784)\n"
     ]
    }
   ],
   "source": [
    "print(train.shape)\n",
    "print(test.shape)"
   ]
  },
  {
   "cell_type": "markdown",
   "metadata": {},
   "source": [
    "#### 데이터 분리\n",
    "* 받은 데이터가 실제 데이터가 의미하는 숫자(0~9) + 실제 데이터로 구성되어 있음\n",
    "* 즉, 1개의 데이터의 값이 일렬로 시리얼로 들어가 있는데, 맨 앞의 값이 label이고, 그 뒤의 값이 실제 데이터에 관련된 것임\n",
    "* 이를 통해서 라벨 + 데이터로 구분"
   ]
  },
  {
   "cell_type": "code",
   "execution_count": 7,
   "metadata": {},
   "outputs": [],
   "source": [
    "train_data=train[:,1:] # 컬럼 784개로 존재할 것 # train의 문제지\n",
    "train_labels=train[:,0] # 1번째 컬럼은 라벨로 존재 # train의 정답지 "
   ]
  },
  {
   "cell_type": "code",
   "execution_count": 8,
   "metadata": {},
   "outputs": [
    {
     "name": "stdout",
     "output_type": "stream",
     "text": [
      "[[0 0 0 ... 0 0 0]\n",
      " [0 0 0 ... 0 0 0]\n",
      " [0 0 0 ... 0 0 0]\n",
      " ...\n",
      " [0 0 0 ... 0 0 0]\n",
      " [0 0 0 ... 0 0 0]\n",
      " [0 0 0 ... 0 0 0]]\n",
      "[1 0 1 ... 7 6 9]\n"
     ]
    }
   ],
   "source": [
    "print(train_data)\n",
    "print(train_labels)"
   ]
  },
  {
   "cell_type": "markdown",
   "metadata": {},
   "source": [
    "#### 0~9까지 데이터가 다 들어있는지 확인\n",
    "* 실제로 우리가 학습시킬 데이터가 0~9까지 다 제대로 들어있는 데이터인지 확인"
   ]
  },
  {
   "cell_type": "code",
   "execution_count": 9,
   "metadata": {},
   "outputs": [
    {
     "name": "stdout",
     "output_type": "stream",
     "text": [
      "[0 1 2 3 4 5 6 7 8 9]\n"
     ]
    }
   ],
   "source": [
    "print(np.unique(train_labels)) # np.unique 중복되는 데이터 제거"
   ]
  },
  {
   "cell_type": "markdown",
   "metadata": {},
   "source": [
    "#### 학습시키려는 데이터의 분포가 균일하게 적당히 분포되었는지 확인"
   ]
  },
  {
   "cell_type": "code",
   "execution_count": 10,
   "metadata": {},
   "outputs": [
    {
     "name": "stdout",
     "output_type": "stream",
     "text": [
      "[[   0 4132]\n",
      " [   1 4684]\n",
      " [   2 4177]\n",
      " [   3 4351]\n",
      " [   4 4072]\n",
      " [   5 3795]\n",
      " [   6 4137]\n",
      " [   7 4401]\n",
      " [   8 4063]\n",
      " [   9 4188]]\n"
     ]
    }
   ],
   "source": [
    "# method 01) numpy의 unique 이용해서 처리\n",
    "unique, counts = np.unique(train_labels, return_counts=True)\n",
    "print(np.asarray((unique, counts)).T)"
   ]
  },
  {
   "cell_type": "code",
   "execution_count": 11,
   "metadata": {},
   "outputs": [],
   "source": [
    "import seaborn as sns"
   ]
  },
  {
   "cell_type": "code",
   "execution_count": 12,
   "metadata": {},
   "outputs": [
    {
     "data": {
      "text/plain": [
       "<matplotlib.axes._subplots.AxesSubplot at 0x230c2c47f08>"
      ]
     },
     "execution_count": 12,
     "metadata": {},
     "output_type": "execute_result"
    },
    {
     "data": {
      "image/png": "[encoded data removed]",
      "text/plain": [
       "<Figure size 432x288 with 2 Axes>"
      ]
     },
     "metadata": {
      "needs_background": "light"
     },
     "output_type": "display_data"
    }
   ],
   "source": [
    "# 보고자 하는 데이터의 index\n",
    "idx=0\n",
    "image_data=train_data[idx]\n",
    "\n",
    "# 1차원이기 때문에 실제 값을 계산하기 위해서는 1차원의 길이값 획득 & 이를 제곱근으로 변환\n",
    "tot_size=image_data.shape[0]\n",
    "one_size=int(np.sqrt(tot_size))\n",
    "\n",
    "# 그림으로 표현\n",
    "sns.heatmap(np.reshape(image_data, (one_size, one_size)))\n",
    "#plt.title(str(\"MNIST Digit Image_ Train Data Number: \") + str(idx))"
   ]
  },
  {
   "cell_type": "code",
   "execution_count": 13,
   "metadata": {},
   "outputs": [],
   "source": [
    "import time\n",
    "from sklearn.neighbors import KNeighborsClassifier\n",
    "from sklearn.metrics import accuracy_score\n",
    "from sklearn.model_selection import cross_val_score"
   ]
  },
  {
   "cell_type": "code",
   "execution_count": 14,
   "metadata": {},
   "outputs": [
    {
     "name": "stdout",
     "output_type": "stream",
     "text": [
      "Process Time : 225.32524371147156\n"
     ]
    }
   ],
   "source": [
    "t1=time.time()\n",
    "# instantiate learning model ( k=3 ) -> train data 57500개 전체를 학습\n",
    "\n",
    "# n_jobs = -1 하지 않으면 시간이 많이 걸리게 된다\n",
    "knn=KNeighborsClassifier(n_neighbors=5, n_jobs=-1) # n_neighbors의 디폴트 값은 5\n",
    "\n",
    "# fitting the model - 모델 학습\n",
    "knn.fit(train_data, train_labels)\n",
    "\n",
    "# predict the model - 예측\n",
    "pred=knn.predict(test)\n",
    "\n",
    "t2=time.time()\n",
    "print(\"Process Time : \" + str(t2-t1))"
   ]
  },
  {
   "cell_type": "code",
   "execution_count": 13,
   "metadata": {},
   "outputs": [],
   "source": [
    "# 출력용 만들기\n",
    "img_id=[]\n",
    "# summit 관련해서는 id가 1부터 시작되어야 하니 index matching 부분임\n",
    "for i in range(1,len(test)+1):\n",
    "    img_id.append(i)\n",
    "\n",
    "predMNIST=pd.DataFrame({\"ImageId\":img_id, \"Label\":pred})\n",
    "\n",
    "# outpath\n",
    "out_path=\"C:\\\\Users\\\\1-10\\\\Desktop\\\\python\\\\01_MNIST_Kaggle_data\\\\out1211.csv\"\n",
    "predMNIST.to_csv(out_path, index=False) # 인덱스에 대한 정보는 출력하지 않는다"
   ]
  },
  {
   "cell_type": "markdown",
   "metadata": {},
   "source": [
    "#### 실제로 kaggle에 summit하기\n",
    "* https://www.kaggle.com/c/digit-recognizer/leaderboard"
   ]
  },
  {
   "cell_type": "code",
   "execution_count": 15,
   "metadata": {},
   "outputs": [],
   "source": [
    "import time\n",
    "from sklearn.neighbors import KNeighborsClassifier\n",
    "from sklearn.metrics import accuracy_score\n",
    "from sklearn.model_selection import cross_val_score\n",
    "from sklearn.preprocessing import MinMaxScaler"
   ]
  },
  {
   "cell_type": "code",
   "execution_count": 36,
   "metadata": {},
   "outputs": [
    {
     "data": {
      "image/png": "[encoded data removed]",
      "text/plain": [
       "<Figure size 432x288 with 1 Axes>"
      ]
     },
     "metadata": {
      "needs_background": "light"
     },
     "output_type": "display_data"
    },
    {
     "name": "stdout",
     "output_type": "stream",
     "text": [
      "(42000, 30)\n",
      "(28000, 30)\n"
     ]
    },
    {
     "data": {
      "text/plain": [
       "array([0.97273376, 0.97057983, 0.97243645, 0.96870982, 0.96941109,\n",
       "       0.97198399])"
      ]
     },
     "execution_count": 36,
     "metadata": {},
     "output_type": "execute_result"
    }
   ],
   "source": [
    "from sklearn.decomposition import PCA\n",
    "\n",
    "num_comp=30\n",
    "pca=PCA(n_components=num_comp)\n",
    "\n",
    "pca.fit(train_data)\n",
    "\n",
    "# determine amount of variance explained by components\n",
    "np.sum(pca.explained_variance_ratio_)\n",
    "\n",
    "# plot the explained variance\n",
    "plt.plot(pca.explained_variance_ratio_)\n",
    "plt.title('Variance Explained by Extracted Component')\n",
    "plt.show()\n",
    "\n",
    "# extract the features\n",
    "train_ext=pca.fit_transform(train_data) # 특정행렬을 낮은 차원의 근사행렬로 변환\n",
    "print(train_ext.shape)\n",
    "\n",
    "# transform the test data using the existing parameters\n",
    "test_ext=pca.transform(test)\n",
    "print(test_ext.shape)\n",
    "\n",
    "min_max_scaler=MinMaxScaler()\n",
    "\n",
    "train_norm=min_max_scaler.fit_transform(train_ext)\n",
    "test_norm=min_max_scaler.fit_transform(test_ext)\n",
    "\n",
    "knn=KNeighborsClassifier()\n",
    "knn.fit(train_norm, train_labels)\n",
    "\n",
    "from sklearn.model_selection import cross_val_score\n",
    "\n",
    "# 시간 오래 걸림\n",
    "cross_val_score(knn,train_norm,train_labels, cv=6) # model, train, target, cross validation"
   ]
  },
  {
   "cell_type": "code",
   "execution_count": 37,
   "metadata": {},
   "outputs": [
    {
     "name": "stdout",
     "output_type": "stream",
     "text": [
      "Process Time : 10.264209508895874\n"
     ]
    }
   ],
   "source": [
    "t1=time.time()\n",
    "\n",
    "knn=KNeighborsClassifier(n_neighbors=3, n_jobs=-1)\n",
    "\n",
    "# fitting the model - 모델 학습\n",
    "knn.fit(train_norm, train_labels)\n",
    "\n",
    "# predict the model - 예측\n",
    "pred=knn.predict(test_norm)\n",
    "\n",
    "t2=time.time()\n",
    "print(\"Process Time : \" + str(t2-t1))"
   ]
  },
  {
   "cell_type": "code",
   "execution_count": 38,
   "metadata": {},
   "outputs": [],
   "source": [
    "# 출력용 만들기\n",
    "img_id=[]\n",
    "# summit 관련해서는 id가 1부터 시작되어야 하니 index matching 부분임\n",
    "for i in range(1,len(test_norm)+1):\n",
    "    img_id.append(i)\n",
    "\n",
    "predMNIST=pd.DataFrame({\"ImageId\":img_id, \"Label\":pred})\n",
    "\n",
    "# outpath\n",
    "out_path=\"C:\\\\Users\\\\1-10\\\\Desktop\\\\python\\\\01_MNIST_Kaggle_data\\\\out21.csv\"\n",
    "predMNIST.to_csv(out_path, index=False) # 인덱스에 대한 정보는 출력하지 않는다"
   ]
  },
  {
   "cell_type": "code",
   "execution_count": null,
   "metadata": {},
   "outputs": [],
   "source": []
  }
 ],
 "metadata": {
  "kernelspec": {
   "display_name": "Python 3",
   "language": "python",
   "name": "python3"
  },
  "language_info": {
   "codemirror_mode": {
    "name": "ipython",
    "version": 3
   },
   "file_extension": ".py",
   "mimetype": "text/x-python",
   "name": "python",
   "nbconvert_exporter": "python",
   "pygments_lexer": "ipython3",
   "version": "3.7.4"
  }
 },
 "nbformat": 4,
 "nbformat_minor": 2
}
