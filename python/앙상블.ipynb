{
 "cells": [
  {
   "cell_type": "markdown",
   "metadata": {},
   "source": [
    "#### 앙상블 방법\n",
    "* 기본 개념 : 단일한 모델을 사용해서 결과를 얻고자 하는 것이 아니라 여러가지 모델을 생성하고, 이들을 종합적으로 활용해서 판단을 하겠다는 의미임!"
   ]
  },
  {
   "cell_type": "markdown",
   "metadata": {},
   "source": [
    "#### Bagging : Bootstrap Aggregation\n",
    "* 학습 데이터에 대해서 sampling을 한다는 것이고 이것은 최대한 random하게 해야한다. 중요한 것은 전체 데이터에 대해서 일부분들을 random하게 추출하는 sampling이다. 그리고 이러한 것을 바탕으로 각기 샘플된 데이터를 기반으로 분류기를 학습한다"
   ]
  },
  {
   "cell_type": "markdown",
   "metadata": {},
   "source": [
    "#### Voting Ensemble\n",
    "* 상황) 우선 분류를 하는 학습기 A,B,C가 존재하고 이들은 각기 70%의 정확도를 보이고 있다. 이러한 상황에서 이들을 모두 사용해서 다수결의 법칙으로 결정하고자 한다"
   ]
  },
  {
   "cell_type": "code",
   "execution_count": 1,
   "metadata": {},
   "outputs": [
    {
     "name": "stdout",
     "output_type": "stream",
     "text": [
      "0.3429999999999999\n"
     ]
    }
   ],
   "source": [
    "# 01) 3개의 분류기가 모두 다 맞출 확률:\n",
    "case1=0.7*0.7*0.7\n",
    "print(case1)"
   ]
  },
  {
   "cell_type": "code",
   "execution_count": 2,
   "metadata": {},
   "outputs": [
    {
     "name": "stdout",
     "output_type": "stream",
     "text": [
      "0.44099999999999995\n"
     ]
    }
   ],
   "source": [
    "# 02) 2개의 분류기가 맞추고, 1개가 틀릴 확률\n",
    "case2=0.7*0.7*0.3+0.7*0.3*0.7+0.3*0.7*0.7\n",
    "print(case2)"
   ]
  },
  {
   "cell_type": "code",
   "execution_count": null,
   "metadata": {},
   "outputs": [],
   "source": []
  }
 ],
 "metadata": {
  "kernelspec": {
   "display_name": "Python 3",
   "language": "python",
   "name": "python3"
  },
  "language_info": {
   "codemirror_mode": {
    "name": "ipython",
    "version": 3
   },
   "file_extension": ".py",
   "mimetype": "text/x-python",
   "name": "python",
   "nbconvert_exporter": "python",
   "pygments_lexer": "ipython3",
   "version": "3.7.4"
  }
 },
 "nbformat": 4,
 "nbformat_minor": 2
}
